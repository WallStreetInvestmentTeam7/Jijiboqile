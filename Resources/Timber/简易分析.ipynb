{
 "cells": [
  {
   "cell_type": "code",
   "execution_count": 163,
   "id": "1d4db5f2",
   "metadata": {},
   "outputs": [],
   "source": [
    "import pandas as pd\n",
    "import os\n",
    "import numpy as np\n",
    "np.set_printoptions(suppress=True)"
   ]
  },
  {
   "cell_type": "code",
   "execution_count": 13,
   "id": "68751c84",
   "metadata": {},
   "outputs": [],
   "source": [
    "dfs = {}\n",
    "for file in os.listdir():\n",
    "    split_name = file.split(\".\")\n",
    "    if  split_name[-1] == \"csv\":\n",
    "        dfs[int(split_name[0])] = pd.read_csv(file, index_col ='Index')\n",
    "        dfs[int(split_name[0])].index = pd.to_datetime(dfs[int(split_name[0])].index)"
   ]
  },
  {
   "cell_type": "code",
   "execution_count": 41,
   "id": "b4cac3a9",
   "metadata": {},
   "outputs": [],
   "source": [
    "open_to_open = {}\n",
    "close_to_close = {} \n",
    "open_to_close = {}\n",
    "high_to_low = {}\n",
    "for name in dfs:\n",
    "    open_to_open[name] = np.log(dfs[name][\"Open\"]).diff().shift(-1)\n",
    "    close_to_close[name] = np.log(dfs[name][\"Close\"]).diff().shift(-1)\n",
    "    open_to_close[name] = np.log(dfs[name][\"Open\"]) - np.log(dfs[name][\"Close\"])\n",
    "    high_to_low[name] = np.log(dfs[name][\"High\"]) - np.log(dfs[name][\"Low\"])\n",
    "open_to_open = pd.concat(open_to_open, axis=1)\n",
    "close_to_close = pd.concat(close_to_close, axis=1)\n",
    "open_to_close = pd.concat(open_to_close, axis=1)\n",
    "high_to_low = pd.concat(high_to_low, axis=1)\n",
    "return_list = [\n",
    "    \"open_to_open\",\n",
    "    \"close_to_close\",\n",
    "    \"open_to_close\",\n",
    "    \"high_to_low\"\n",
    "]"
   ]
  },
  {
   "cell_type": "markdown",
   "id": "a843749f",
   "metadata": {},
   "source": [
    "## EDA"
   ]
  },
  {
   "cell_type": "code",
   "execution_count": 78,
   "id": "e2c1fc72",
   "metadata": {},
   "outputs": [
    {
     "name": "stdout",
     "output_type": "stream",
     "text": [
      "open_to_open 数据分析\n",
      "        mean       std       min       25%       50%       75%       max\n",
      "1   0.000220  0.026972 -0.241745 -0.013458  0.000919  0.013596  0.135427\n",
      "2   0.000116  0.027669 -0.265703 -0.012202  0.000000  0.013615  0.150823\n",
      "3  -0.000101  0.017751 -0.120953 -0.009527  0.000000  0.009431  0.099018\n",
      "4  -0.000009  0.016194 -0.115143 -0.009069 -0.000844  0.008307  0.116433\n",
      "5  -0.000176  0.018291 -0.096515 -0.008249  0.000000  0.008193  0.134442\n",
      "6   0.000071  0.003032 -0.014997 -0.001546  0.000344  0.001781  0.016323\n",
      "7  -0.000055  0.007012 -0.041964 -0.003590 -0.000392  0.003531  0.033572\n",
      "8  -0.000307  0.020870 -0.145016 -0.010480  0.000000  0.010861  0.091937\n",
      "9  -0.000281  0.013734 -0.085507 -0.008047  0.000752  0.008368  0.059285\n",
      "10 -0.000021  0.007508 -0.056541 -0.002825  0.000590  0.003675  0.032374 \n",
      "\n",
      "close_to_close 数据分析\n",
      "        mean       std       min       25%       50%       75%       max\n",
      "1   0.000198  0.029452 -0.400478 -0.012132  0.000765  0.012462  0.135724\n",
      "2   0.000111  0.029703 -0.390942 -0.010572  0.002086  0.013296  0.139942\n",
      "3  -0.000104  0.016854 -0.123481 -0.008226  0.000392  0.008395  0.072225\n",
      "4  -0.000008  0.015147 -0.073338 -0.008717  0.000502  0.007673  0.064143\n",
      "5  -0.000179  0.019207 -0.135403 -0.007468  0.000277  0.006989  0.238970\n",
      "6   0.000070  0.002888 -0.017042 -0.001279  0.000360  0.001652  0.019916\n",
      "7  -0.000055  0.007083 -0.041325 -0.003808 -0.000398  0.003603  0.039457\n",
      "8  -0.000315  0.020250 -0.110105 -0.010047  0.000000  0.010342  0.084023\n",
      "9  -0.000275  0.013152 -0.056242 -0.006312  0.000000  0.007061  0.054067\n",
      "10 -0.000026  0.007081 -0.060455 -0.002716  0.000241  0.003129  0.027419 \n",
      "\n",
      "open_to_close 数据分析\n",
      "        mean       std       min       25%       50%       75%       max\n",
      "1  -0.000030  0.020229 -0.091961 -0.010746  0.000000  0.010019  0.142581\n",
      "2  -0.000316  0.019153 -0.098559 -0.010513 -0.000863  0.009469  0.144606\n",
      "3  -0.000047  0.012913 -0.044171 -0.007587  0.000000  0.007213  0.067538\n",
      "4   0.000196  0.013107 -0.050644 -0.007186  0.000000  0.007959  0.075645\n",
      "5  -0.000729  0.014495 -0.163320 -0.007139 -0.000760  0.005696  0.055296\n",
      "6  -0.000052  0.001918 -0.007651 -0.001145 -0.000114  0.000919  0.010324\n",
      "7  -0.000036  0.004660 -0.028346 -0.002359  0.000125  0.002164  0.036809\n",
      "8  -0.000328  0.015448 -0.079224 -0.008106  0.000000  0.007737  0.072278\n",
      "9  -0.000308  0.010298 -0.058522 -0.005366 -0.000389  0.004999  0.041409\n",
      "10 -0.000448  0.005020 -0.024321 -0.002791 -0.000306  0.002032  0.027331 \n",
      "\n",
      "high_to_low 数据分析\n",
      "        mean       std       min       25%       50%       75%       max\n",
      "1   0.025759  0.020300  0.000000  0.014125  0.020687  0.030595  0.283390\n",
      "2   0.025692  0.017544  0.004545  0.015524  0.021487  0.030807  0.213284\n",
      "3   0.016863  0.009697  0.000000  0.010256  0.014405  0.021243  0.069388\n",
      "4   0.017240  0.009224  0.000000  0.011126  0.014922  0.020859  0.080043\n",
      "5   0.017378  0.013078  0.002404  0.009188  0.013760  0.021350  0.171946\n",
      "6   0.002927  0.001568  0.000576  0.001796  0.002572  0.003601  0.013109\n",
      "7   0.006389  0.004222  0.001008  0.003768  0.005297  0.007694  0.055140\n",
      "8   0.019692  0.012611  0.000000  0.010979  0.017196  0.024944  0.088850\n",
      "9   0.014451  0.008961  0.000000  0.008296  0.012756  0.018758  0.063893\n",
      "10  0.006672  0.004102  0.000000  0.003932  0.005673  0.008279  0.033183 \n",
      "\n"
     ]
    }
   ],
   "source": [
    "# 从结果看， 一号二号八号资产波动（风险）最大，六号七号十号波动（风险）最小。\n",
    "# 一二六号资产在历史上取得正收益\n",
    "for return_ in return_list:\n",
    "    print(return_, \"数据分析\")\n",
    "    print(locals()[return_].describe()[1:].T, \"\\n\")"
   ]
  },
  {
   "cell_type": "code",
   "execution_count": 77,
   "id": "b2a27838",
   "metadata": {},
   "outputs": [
    {
     "data": {
      "text/html": [
       "<div>\n",
       "<style scoped>\n",
       "    .dataframe tbody tr th:only-of-type {\n",
       "        vertical-align: middle;\n",
       "    }\n",
       "\n",
       "    .dataframe tbody tr th {\n",
       "        vertical-align: top;\n",
       "    }\n",
       "\n",
       "    .dataframe thead th {\n",
       "        text-align: right;\n",
       "    }\n",
       "</style>\n",
       "<table border=\"1\" class=\"dataframe\">\n",
       "  <thead>\n",
       "    <tr style=\"text-align: right;\">\n",
       "      <th></th>\n",
       "      <th>skew</th>\n",
       "      <th>kurt</th>\n",
       "    </tr>\n",
       "  </thead>\n",
       "  <tbody>\n",
       "    <tr>\n",
       "      <th>1</th>\n",
       "      <td>-0.663657</td>\n",
       "      <td>9.336681</td>\n",
       "    </tr>\n",
       "    <tr>\n",
       "      <th>2</th>\n",
       "      <td>-1.240166</td>\n",
       "      <td>14.096515</td>\n",
       "    </tr>\n",
       "    <tr>\n",
       "      <th>3</th>\n",
       "      <td>-0.334106</td>\n",
       "      <td>6.631912</td>\n",
       "    </tr>\n",
       "    <tr>\n",
       "      <th>4</th>\n",
       "      <td>0.453810</td>\n",
       "      <td>7.607522</td>\n",
       "    </tr>\n",
       "    <tr>\n",
       "      <th>5</th>\n",
       "      <td>-0.006750</td>\n",
       "      <td>6.988791</td>\n",
       "    </tr>\n",
       "    <tr>\n",
       "      <th>6</th>\n",
       "      <td>-0.381926</td>\n",
       "      <td>2.635229</td>\n",
       "    </tr>\n",
       "    <tr>\n",
       "      <th>7</th>\n",
       "      <td>0.060541</td>\n",
       "      <td>3.596602</td>\n",
       "    </tr>\n",
       "    <tr>\n",
       "      <th>8</th>\n",
       "      <td>-0.725271</td>\n",
       "      <td>4.910237</td>\n",
       "    </tr>\n",
       "    <tr>\n",
       "      <th>9</th>\n",
       "      <td>-0.517192</td>\n",
       "      <td>2.819962</td>\n",
       "    </tr>\n",
       "    <tr>\n",
       "      <th>10</th>\n",
       "      <td>-1.502631</td>\n",
       "      <td>8.942615</td>\n",
       "    </tr>\n",
       "  </tbody>\n",
       "</table>\n",
       "</div>"
      ],
      "text/plain": [
       "        skew       kurt\n",
       "1  -0.663657   9.336681\n",
       "2  -1.240166  14.096515\n",
       "3  -0.334106   6.631912\n",
       "4   0.453810   7.607522\n",
       "5  -0.006750   6.988791\n",
       "6  -0.381926   2.635229\n",
       "7   0.060541   3.596602\n",
       "8  -0.725271   4.910237\n",
       "9  -0.517192   2.819962\n",
       "10 -1.502631   8.942615"
      ]
     },
     "execution_count": 77,
     "metadata": {},
     "output_type": "execute_result"
    }
   ],
   "source": [
    "# 四号资产和七号资产偏度为正\n",
    "# 二号资产kurt极大\n",
    "other_info = pd.concat([\n",
    "    open_to_open.skew(),\n",
    "    open_to_open.kurt()\n",
    "], axis=1)\n",
    "other_info.columns = [\"skew\", \"kurt\"]\n",
    "other_info"
   ]
  },
  {
   "cell_type": "code",
   "execution_count": 151,
   "id": "b0d021bf",
   "metadata": {},
   "outputs": [
    {
     "data": {
      "text/html": [
       "<div>\n",
       "<style scoped>\n",
       "    .dataframe tbody tr th:only-of-type {\n",
       "        vertical-align: middle;\n",
       "    }\n",
       "\n",
       "    .dataframe tbody tr th {\n",
       "        vertical-align: top;\n",
       "    }\n",
       "\n",
       "    .dataframe thead th {\n",
       "        text-align: right;\n",
       "    }\n",
       "</style>\n",
       "<table border=\"1\" class=\"dataframe\">\n",
       "  <thead>\n",
       "    <tr style=\"text-align: right;\">\n",
       "      <th></th>\n",
       "      <th>alphas</th>\n",
       "      <th>beta</th>\n",
       "    </tr>\n",
       "  </thead>\n",
       "  <tbody>\n",
       "    <tr>\n",
       "      <th>1</th>\n",
       "      <td>-0.000094</td>\n",
       "      <td>0.182542</td>\n",
       "    </tr>\n",
       "    <tr>\n",
       "      <th>2</th>\n",
       "      <td>-0.000075</td>\n",
       "      <td>0.175980</td>\n",
       "    </tr>\n",
       "    <tr>\n",
       "      <th>3</th>\n",
       "      <td>-0.000038</td>\n",
       "      <td>0.165306</td>\n",
       "    </tr>\n",
       "    <tr>\n",
       "      <th>4</th>\n",
       "      <td>-0.000053</td>\n",
       "      <td>0.173503</td>\n",
       "    </tr>\n",
       "    <tr>\n",
       "      <th>5</th>\n",
       "      <td>-0.000032</td>\n",
       "      <td>0.126126</td>\n",
       "    </tr>\n",
       "    <tr>\n",
       "      <th>6</th>\n",
       "      <td>-0.000081</td>\n",
       "      <td>0.375172</td>\n",
       "    </tr>\n",
       "    <tr>\n",
       "      <th>7</th>\n",
       "      <td>-0.000048</td>\n",
       "      <td>0.119710</td>\n",
       "    </tr>\n",
       "    <tr>\n",
       "      <th>8</th>\n",
       "      <td>-0.000019</td>\n",
       "      <td>0.113929</td>\n",
       "    </tr>\n",
       "    <tr>\n",
       "      <th>9</th>\n",
       "      <td>0.000003</td>\n",
       "      <td>0.203272</td>\n",
       "    </tr>\n",
       "    <tr>\n",
       "      <th>10</th>\n",
       "      <td>-0.000054</td>\n",
       "      <td>0.008900</td>\n",
       "    </tr>\n",
       "  </tbody>\n",
       "</table>\n",
       "</div>"
      ],
      "text/plain": [
       "      alphas      beta\n",
       "1  -0.000094  0.182542\n",
       "2  -0.000075  0.175980\n",
       "3  -0.000038  0.165306\n",
       "4  -0.000053  0.173503\n",
       "5  -0.000032  0.126126\n",
       "6  -0.000081  0.375172\n",
       "7  -0.000048  0.119710\n",
       "8  -0.000019  0.113929\n",
       "9   0.000003  0.203272\n",
       "10 -0.000054  0.008900"
      ]
     },
     "execution_count": 151,
     "metadata": {},
     "output_type": "execute_result"
    }
   ],
   "source": [
    "# 这一步用PCA做更好，没有的话就简单做\n",
    "# 基于CAPM， 将收益序列分解成alpha 和 beta\n",
    "market_return = open_to_open.mean(axis=1)\n",
    "X = open_to_open\n",
    "Y = market_return\n",
    "beta = (X.T * Y).sum(axis=1) / (X ** 2).sum(axis=0)\n",
    "residual = (Y - (beta * X).T).T\n",
    "alphas = residual.mean(axis=0)\n",
    "alpha_info = pd.concat([alphas, beta], axis=1)\n",
    "alpha_info.columns = [\"alphas\",\"beta\"]\n",
    "alpha_info"
   ]
  },
  {
   "cell_type": "code",
   "execution_count": 171,
   "id": "43e7cdb6",
   "metadata": {},
   "outputs": [
    {
     "name": "stdout",
     "output_type": "stream",
     "text": [
      "1 -0.0001 0.1826\n",
      "2 -0.0001 0.176\n",
      "3 -0.0 0.1653\n",
      "4 -0.0001 0.1735\n",
      "5 -0.0 0.1261\n",
      "6 -0.0001 0.3758\n",
      "7 -0.0 0.1197\n",
      "8 -0.0 0.1139\n",
      "9 0.0 0.2033\n",
      "10 -0.0001 0.0089\n"
     ]
    }
   ],
   "source": [
    "# 等同于上一步， 方便你理解而已\n",
    "from sklearn.linear_model import LinearRegression\n",
    "for i in range(10):\n",
    "    i += 1\n",
    "    ols = LinearRegression()\n",
    "    ols.fit(X[[i]][:-1], Y[:-1])\n",
    "    print(i, np.round(ols.intercept_, 4), np.round(ols.coef_[0], 4))"
   ]
  },
  {
   "cell_type": "code",
   "execution_count": null,
   "id": "5a47d69d",
   "metadata": {},
   "outputs": [],
   "source": [
    "除了以上分析，要凑字数还可以describe 一下volume,， 把其他时段的收益都重复分析一遍，\n",
    "还可以做一下ACF/ PACF 检验看看有没有存在自相关 (知乎搜索ARIMA, 就有教程)"
   ]
  },
  {
   "cell_type": "code",
   "execution_count": 175,
   "id": "725b0a9e",
   "metadata": {},
   "outputs": [
    {
     "data": {
      "text/plain": [
       "1    -0.001542\n",
       "2     0.063547\n",
       "3    -0.057280\n",
       "4    -0.021430\n",
       "5     0.047583\n",
       "6    -0.080907\n",
       "7    -0.064971\n",
       "8    -0.030822\n",
       "9    -0.086703\n",
       "10   -0.005044\n",
       "dtype: float64"
      ]
     },
     "execution_count": 175,
     "metadata": {},
     "output_type": "execute_result"
    }
   ],
   "source": [
    "# 或者这样子简单检验下\n",
    "open_to_open.corrwith(open_to_open.shift(1))\n"
   ]
  },
  {
   "cell_type": "markdown",
   "id": "c7e13b87",
   "metadata": {},
   "source": [
    "## 分析完了，开始写策略"
   ]
  },
  {
   "cell_type": "code",
   "execution_count": 245,
   "id": "a142c81d",
   "metadata": {},
   "outputs": [],
   "source": [
    "# 策略就很简单，因为只有十个资产是量化不了的\n",
    "# 举例，N 日内收益大于 M 日标准差就开仓\n",
    "# 无多空限制，有的话策略要改\n",
    "\n",
    "# 千万不要拿这个东西做实盘交易，实盘量化和这种东西是完全不同的。"
   ]
  },
  {
   "cell_type": "code",
   "execution_count": 259,
   "id": "a98ba500",
   "metadata": {},
   "outputs": [],
   "source": [
    "def create_strategy(configs):\n",
    "    signal = open_to_open.rolling(configs[0]).sum()\n",
    "    threshold = open_to_open.rolling(configs[1]).std() * configs[2]\n",
    "    condition = (signal.abs() > threshold)\n",
    "    position = condition * np.sign(signal)\n",
    "    strategy = (position.shift(1) * open_to_open).sum(axis=1)\n",
    "    return strategy"
   ]
  },
  {
   "cell_type": "code",
   "execution_count": 262,
   "id": "8ce542b2",
   "metadata": {},
   "outputs": [],
   "source": [
    "max_sharpe = 0 \n",
    "best_config = []\n",
    "for config_0 in np.arange(1, 120):\n",
    "    for config_1 in np.arange(10, 120, 10):\n",
    "        for config_2 in np.arange(0.2, 2, 0.2):\n",
    "            \n",
    "            configs = [config_0, config_1, config_2]\n",
    "            strategy = create_strategy(configs)\n",
    "            \n",
    "            sharpe = np.abs(strategy.mean() / strategy.std())\n",
    "            if sharpe > max_sharpe:\n",
    "                best_config = [config_0, config_1, config_2]\n",
    "                max_sharpe = sharpe"
   ]
  },
  {
   "cell_type": "code",
   "execution_count": 264,
   "id": "9eee6c72",
   "metadata": {},
   "outputs": [
    {
     "data": {
      "image/png": "[encoded data removed]",
      "text/plain": [
       "<Figure size 432x288 with 1 Axes>"
      ]
     },
     "metadata": {
      "needs_background": "light"
     },
     "output_type": "display_data"
    }
   ],
   "source": [
    "\n",
    "strategy = create_strategy(best_config)\n",
    "plt.plot(-strategy.cumsum())\n",
    "plt.xticks(rotation = 90)\n",
    "plt.show()"
   ]
  },
  {
   "cell_type": "code",
   "execution_count": null,
   "id": "384f76a8",
   "metadata": {},
   "outputs": [],
   "source": []
  }
 ],
 "metadata": {
  "kernelspec": {
   "display_name": "ENV_QIU",
   "language": "python",
   "name": "env_qiu"
  },
  "language_info": {
   "codemirror_mode": {
    "name": "ipython",
    "version": 3
   },
   "file_extension": ".py",
   "mimetype": "text/x-python",
   "name": "python",
   "nbconvert_exporter": "python",
   "pygments_lexer": "ipython3",
   "version": "3.9.7"
  },
  "toc": {
   "base_numbering": 1,
   "nav_menu": {},
   "number_sections": true,
   "sideBar": true,
   "skip_h1_title": false,
   "title_cell": "Table of Contents",
   "title_sidebar": "Contents",
   "toc_cell": false,
   "toc_position": {},
   "toc_section_display": true,
   "toc_window_display": false
  },
  "varInspector": {
   "cols": {
    "lenName": 16,
    "lenType": 16,
    "lenVar": 40
   },
   "kernels_config": {
    "python": {
     "delete_cmd_postfix": "",
     "delete_cmd_prefix": "del ",
     "library": "var_list.py",
     "varRefreshCmd": "print(var_dic_list())"
    },
    "r": {
     "delete_cmd_postfix": ") ",
     "delete_cmd_prefix": "rm(",
     "library": "var_list.r",
     "varRefreshCmd": "cat(var_dic_list()) "
    }
   },
   "types_to_exclude": [
    "module",
    "function",
    "builtin_function_or_method",
    "instance",
    "_Feature"
   ],
   "window_display": false
  }
 },
 "nbformat": 4,
 "nbformat_minor": 5
}
